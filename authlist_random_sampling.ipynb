{
 "cells": [
  {
   "cell_type": "code",
   "execution_count": 2,
   "metadata": {
    "collapsed": true
   },
   "outputs": [],
   "source": [
    "import pandas as pd\n",
    "import numpy as np"
   ]
  },
  {
   "cell_type": "code",
   "execution_count": 51,
   "metadata": {},
   "outputs": [
    {
     "data": {
      "text/html": [
       "<div>\n",
       "<style>\n",
       "    .dataframe thead tr:only-child th {\n",
       "        text-align: right;\n",
       "    }\n",
       "\n",
       "    .dataframe thead th {\n",
       "        text-align: left;\n",
       "    }\n",
       "\n",
       "    .dataframe tbody tr th {\n",
       "        vertical-align: top;\n",
       "    }\n",
       "</style>\n",
       "<table border=\"1\" class=\"dataframe\">\n",
       "  <thead>\n",
       "    <tr style=\"text-align: right;\">\n",
       "      <th></th>\n",
       "      <th>author</th>\n",
       "    </tr>\n",
       "  </thead>\n",
       "  <tbody>\n",
       "    <tr>\n",
       "      <th>0</th>\n",
       "      <td>meowdy</td>\n",
       "    </tr>\n",
       "    <tr>\n",
       "      <th>1</th>\n",
       "      <td>BogeyBogeyBogey</td>\n",
       "    </tr>\n",
       "    <tr>\n",
       "      <th>2</th>\n",
       "      <td>aksurvivorfan</td>\n",
       "    </tr>\n",
       "    <tr>\n",
       "      <th>3</th>\n",
       "      <td>ACPhila</td>\n",
       "    </tr>\n",
       "    <tr>\n",
       "      <th>4</th>\n",
       "      <td>redditiem2</td>\n",
       "    </tr>\n",
       "  </tbody>\n",
       "</table>\n",
       "</div>"
      ],
      "text/plain": [
       "            author\n",
       "0           meowdy\n",
       "1  BogeyBogeyBogey\n",
       "2    aksurvivorfan\n",
       "3          ACPhila\n",
       "4       redditiem2"
      ]
     },
     "execution_count": 51,
     "metadata": {},
     "output_type": "execute_result"
    }
   ],
   "source": [
    "sfp = pd.read_csv('./data/author_lists/sandersforpresident_authlist_full.csv')\n",
    "sfp.head()"
   ]
  },
  {
   "cell_type": "code",
   "execution_count": 52,
   "metadata": {},
   "outputs": [
    {
     "data": {
      "text/html": [
       "<div>\n",
       "<style>\n",
       "    .dataframe thead tr:only-child th {\n",
       "        text-align: right;\n",
       "    }\n",
       "\n",
       "    .dataframe thead th {\n",
       "        text-align: left;\n",
       "    }\n",
       "\n",
       "    .dataframe tbody tr th {\n",
       "        vertical-align: top;\n",
       "    }\n",
       "</style>\n",
       "<table border=\"1\" class=\"dataframe\">\n",
       "  <thead>\n",
       "    <tr style=\"text-align: right;\">\n",
       "      <th></th>\n",
       "      <th>author</th>\n",
       "    </tr>\n",
       "  </thead>\n",
       "  <tbody>\n",
       "    <tr>\n",
       "      <th>0</th>\n",
       "      <td>SketchyJJ</td>\n",
       "    </tr>\n",
       "    <tr>\n",
       "      <th>1</th>\n",
       "      <td>xXDaNXx</td>\n",
       "    </tr>\n",
       "    <tr>\n",
       "      <th>2</th>\n",
       "      <td>snakefinn</td>\n",
       "    </tr>\n",
       "    <tr>\n",
       "      <th>3</th>\n",
       "      <td>DonVote</td>\n",
       "    </tr>\n",
       "    <tr>\n",
       "      <th>4</th>\n",
       "      <td>FlamboyantSquid</td>\n",
       "    </tr>\n",
       "  </tbody>\n",
       "</table>\n",
       "</div>"
      ],
      "text/plain": [
       "            author\n",
       "0        SketchyJJ\n",
       "1          xXDaNXx\n",
       "2        snakefinn\n",
       "3          DonVote\n",
       "4  FlamboyantSquid"
      ]
     },
     "execution_count": 52,
     "metadata": {},
     "output_type": "execute_result"
    }
   ],
   "source": [
    "td = pd.read_csv('./data/author_lists/the_donald_authlist_full.csv')\n",
    "td.head()"
   ]
  },
  {
   "cell_type": "code",
   "execution_count": 14,
   "metadata": {
    "collapsed": true
   },
   "outputs": [],
   "source": [
    "sfp_full_sample = np.random.choice(sfp['author'],4000,replace=False)\n",
    "td_full_sample = np.random.choice(td['author'],4000,replace=False)"
   ]
  },
  {
   "cell_type": "code",
   "execution_count": 27,
   "metadata": {
    "collapsed": true
   },
   "outputs": [],
   "source": [
    "#Cut the randomly selected data in half into 2 groups\n",
    "sfp_sample1 = pd.DataFrame(sfp_full_sample[:2000], columns = ['author'])\n",
    "sfp_sample2 = pd.DataFrame(sfp_full_sample[2000:], columns = ['author'])\n",
    "\n",
    "td_sample1 = pd.DataFrame(td_full_sample[:2000], columns = ['author']) \n",
    "td_sample2 = pd.DataFrame(td_full_sample[2000:], columns = ['author']) "
   ]
  },
  {
   "cell_type": "code",
   "execution_count": 47,
   "metadata": {},
   "outputs": [
    {
     "name": "stdout",
     "output_type": "stream",
     "text": [
      "4000\n",
      "4000\n",
      "4000\n",
      "4000\n",
      "4000\n",
      "4000\n"
     ]
    }
   ],
   "source": [
    "#Check at that there are 4000 unique names in both sets that don't criss cross\n",
    "print(len(set(list(sfp_sample1['author']) + list(sfp_sample2['author']))))\n",
    "print(len(set(list(sfp_sample1['author']) + list(td_sample1['author']))))\n",
    "print(len(set(list(sfp_sample1['author']) + list(td_sample2['author']))))\n",
    "print(len(set(list(sfp_sample2['author']) + list(td_sample1['author']))))\n",
    "print(len(set(list(sfp_sample2['author']) + list(td_sample2['author']))))\n",
    "print(len(set(list(td_sample1['author']) + list(td_sample2['author']))))"
   ]
  },
  {
   "cell_type": "code",
   "execution_count": 49,
   "metadata": {
    "collapsed": true
   },
   "outputs": [],
   "source": [
    "#Push to csv\n",
    "sfp_sample1.to_csv('./data/author_lists/sfp_sample_userhists.csv', index=False)\n",
    "td_sample1.to_csv('./data/author_lists/td_sample_userhists.csv', index=False)\n",
    "\n",
    "sfp_sample2.to_csv('./data/author_lists/sfp_sample_langmodel.csv', index=False)\n",
    "td_sample2.to_csv('./data/author_lists/td_sample_langmodel.csv', index=False)"
   ]
  },
  {
   "cell_type": "markdown",
   "metadata": {},
   "source": [
    "## Check for Bots"
   ]
  },
  {
   "cell_type": "code",
   "execution_count": 79,
   "metadata": {},
   "outputs": [],
   "source": [
    "#Load botlist\n",
    "bots_list = pd.read_csv('./data/botlist/bigquery_botlist.csv', header=None)\n",
    "bots_list = list(bots_df.append(pd.read_csv('./botlist/chenhao_botlist.txt', header=None))[0])\n",
    "bots_list = sorted(list(set([i.lower() for i in bots_list]))) #lowercase, unique, sort"
   ]
  },
  {
   "cell_type": "code",
   "execution_count": 80,
   "metadata": {},
   "outputs": [
    {
     "name": "stdout",
     "output_type": "stream",
     "text": [
      "0\n",
      "[]\n"
     ]
    }
   ],
   "source": [
    "#Check what candidate authors from sfp are bots in our botlist \n",
    "a = list(sfp['author'])\n",
    "b = [i for i in a if i.lower() not in bots_list]\n",
    "print(len(a) - len(b))\n",
    "print([i for i in a if i.lower() in bots_list])"
   ]
  },
  {
   "cell_type": "code",
   "execution_count": 81,
   "metadata": {},
   "outputs": [
    {
     "name": "stdout",
     "output_type": "stream",
     "text": [
      "3\n",
      "['CompileBot', 'haiku_robot', 'topredditbot']\n"
     ]
    }
   ],
   "source": [
    "#Check what candidate authors from sfp are bots in our botlist \n",
    "a = list(td['author'])\n",
    "b = [i for i in a if i.lower() not in bots_list]\n",
    "print(len(a) - len(b)) \n",
    "print([i for i in a if i.lower() in bots_list])"
   ]
  },
  {
   "cell_type": "code",
   "execution_count": 82,
   "metadata": {},
   "outputs": [
    {
     "name": "stdout",
     "output_type": "stream",
     "text": [
      "['topredditbot']\n",
      "[]\n",
      "[]\n",
      "[]\n"
     ]
    }
   ],
   "source": [
    "#Check the produced files just in case\n",
    "td_sample1 = pd.read_csv('./data/author_lists/td_sample_userhists.csv')\n",
    "td_sample2 = pd.read_csv('./data/author_lists/td_sample_langmodel.csv')\n",
    "sfp_sample1 = pd.read_csv('./data/author_lists/sfp_sample_userhists.csv')\n",
    "sfp_sample2 = pd.read_csv('./data/author_lists/sfp_sample_langmodel.csv')\n",
    "\n",
    "print([i for i in list(td_sample1['author']) if i.lower() in bots_list])\n",
    "print([i for i in list(td_sample2['author']) if i.lower() in bots_list])\n",
    "print([i for i in list(sfp_sample1['author']) if i.lower() in bots_list])\n",
    "print([i for i in list(sfp_sample2['author']) if i.lower() in bots_list])"
   ]
  },
  {
   "cell_type": "code",
   "execution_count": 103,
   "metadata": {},
   "outputs": [
    {
     "data": {
      "text/plain": [
       "array(['rolandontheriver'], \n",
       "      dtype='<U20')"
      ]
     },
     "execution_count": 103,
     "metadata": {},
     "output_type": "execute_result"
    }
   ],
   "source": [
    "#Draw 1 more person to replace the bot\n",
    "td_list = list(td['author'])\n",
    "\n",
    "td_list = [i for i in td_list if i not in list(td_sample1['author'])]\n",
    "td_list = [i for i in td_list if i not in list(td_sample2['author'])]\n",
    "td_list = [i for i in td_list if i.lower() not in bots_list]\n",
    "\n",
    "np.random.choice(td_list,1,replace=False)"
   ]
  },
  {
   "cell_type": "code",
   "execution_count": 99,
   "metadata": {},
   "outputs": [
    {
     "data": {
      "text/plain": [
       "16890"
      ]
     },
     "execution_count": 99,
     "metadata": {},
     "output_type": "execute_result"
    }
   ],
   "source": [
    "len(td_list)"
   ]
  },
  {
   "cell_type": "code",
   "execution_count": 93,
   "metadata": {},
   "outputs": [
    {
     "data": {
      "text/html": [
       "<div>\n",
       "<style>\n",
       "    .dataframe thead tr:only-child th {\n",
       "        text-align: right;\n",
       "    }\n",
       "\n",
       "    .dataframe thead th {\n",
       "        text-align: left;\n",
       "    }\n",
       "\n",
       "    .dataframe tbody tr th {\n",
       "        vertical-align: top;\n",
       "    }\n",
       "</style>\n",
       "<table border=\"1\" class=\"dataframe\">\n",
       "  <thead>\n",
       "    <tr style=\"text-align: right;\">\n",
       "      <th></th>\n",
       "      <th>author</th>\n",
       "    </tr>\n",
       "  </thead>\n",
       "  <tbody>\n",
       "    <tr>\n",
       "      <th>0</th>\n",
       "      <td>cinn-e-mon</td>\n",
       "    </tr>\n",
       "    <tr>\n",
       "      <th>1</th>\n",
       "      <td>Butter_nutted</td>\n",
       "    </tr>\n",
       "    <tr>\n",
       "      <th>2</th>\n",
       "      <td>AdmirilRed</td>\n",
       "    </tr>\n",
       "    <tr>\n",
       "      <th>3</th>\n",
       "      <td>podolski39</td>\n",
       "    </tr>\n",
       "    <tr>\n",
       "      <th>4</th>\n",
       "      <td>captainfluffballs</td>\n",
       "    </tr>\n",
       "    <tr>\n",
       "      <th>5</th>\n",
       "      <td>DoktorAkcel</td>\n",
       "    </tr>\n",
       "    <tr>\n",
       "      <th>6</th>\n",
       "      <td>mrdarrenh</td>\n",
       "    </tr>\n",
       "    <tr>\n",
       "      <th>7</th>\n",
       "      <td>koreanbabyeater</td>\n",
       "    </tr>\n",
       "    <tr>\n",
       "      <th>8</th>\n",
       "      <td>MrBaconBagel</td>\n",
       "    </tr>\n",
       "    <tr>\n",
       "      <th>9</th>\n",
       "      <td>skarby</td>\n",
       "    </tr>\n",
       "    <tr>\n",
       "      <th>10</th>\n",
       "      <td>DownVoteSoldier</td>\n",
       "    </tr>\n",
       "    <tr>\n",
       "      <th>11</th>\n",
       "      <td>SmithFire13</td>\n",
       "    </tr>\n",
       "    <tr>\n",
       "      <th>12</th>\n",
       "      <td>Chest-Rockwell-</td>\n",
       "    </tr>\n",
       "    <tr>\n",
       "      <th>13</th>\n",
       "      <td>Nesurame</td>\n",
       "    </tr>\n",
       "    <tr>\n",
       "      <th>14</th>\n",
       "      <td>King0fWhales</td>\n",
       "    </tr>\n",
       "    <tr>\n",
       "      <th>15</th>\n",
       "      <td>theonlyD1</td>\n",
       "    </tr>\n",
       "    <tr>\n",
       "      <th>16</th>\n",
       "      <td>asalvatore74</td>\n",
       "    </tr>\n",
       "    <tr>\n",
       "      <th>17</th>\n",
       "      <td>NEM3S1S</td>\n",
       "    </tr>\n",
       "    <tr>\n",
       "      <th>18</th>\n",
       "      <td>iron_balls</td>\n",
       "    </tr>\n",
       "    <tr>\n",
       "      <th>19</th>\n",
       "      <td>PigAnimal</td>\n",
       "    </tr>\n",
       "    <tr>\n",
       "      <th>20</th>\n",
       "      <td>Servo112</td>\n",
       "    </tr>\n",
       "    <tr>\n",
       "      <th>21</th>\n",
       "      <td>somedudeinlosangeles</td>\n",
       "    </tr>\n",
       "    <tr>\n",
       "      <th>22</th>\n",
       "      <td>deck_hand</td>\n",
       "    </tr>\n",
       "    <tr>\n",
       "      <th>23</th>\n",
       "      <td>coolfire1080P</td>\n",
       "    </tr>\n",
       "    <tr>\n",
       "      <th>24</th>\n",
       "      <td>NuffNuffHoldTheFluff</td>\n",
       "    </tr>\n",
       "    <tr>\n",
       "      <th>25</th>\n",
       "      <td>Activehannes</td>\n",
       "    </tr>\n",
       "    <tr>\n",
       "      <th>26</th>\n",
       "      <td>rman2222</td>\n",
       "    </tr>\n",
       "    <tr>\n",
       "      <th>27</th>\n",
       "      <td>ellisbrewer</td>\n",
       "    </tr>\n",
       "    <tr>\n",
       "      <th>28</th>\n",
       "      <td>GeeRawr</td>\n",
       "    </tr>\n",
       "    <tr>\n",
       "      <th>29</th>\n",
       "      <td>ShaneDAWS0N</td>\n",
       "    </tr>\n",
       "    <tr>\n",
       "      <th>...</th>\n",
       "      <td>...</td>\n",
       "    </tr>\n",
       "    <tr>\n",
       "      <th>1970</th>\n",
       "      <td>Icerex</td>\n",
       "    </tr>\n",
       "    <tr>\n",
       "      <th>1971</th>\n",
       "      <td>Myalko</td>\n",
       "    </tr>\n",
       "    <tr>\n",
       "      <th>1972</th>\n",
       "      <td>smokejaguar</td>\n",
       "    </tr>\n",
       "    <tr>\n",
       "      <th>1973</th>\n",
       "      <td>Pdecker</td>\n",
       "    </tr>\n",
       "    <tr>\n",
       "      <th>1974</th>\n",
       "      <td>pancakeman96</td>\n",
       "    </tr>\n",
       "    <tr>\n",
       "      <th>1975</th>\n",
       "      <td>cookedpig</td>\n",
       "    </tr>\n",
       "    <tr>\n",
       "      <th>1976</th>\n",
       "      <td>hubertCumberdanes</td>\n",
       "    </tr>\n",
       "    <tr>\n",
       "      <th>1977</th>\n",
       "      <td>rmecav</td>\n",
       "    </tr>\n",
       "    <tr>\n",
       "      <th>1978</th>\n",
       "      <td>Rinkydinky</td>\n",
       "    </tr>\n",
       "    <tr>\n",
       "      <th>1979</th>\n",
       "      <td>Canigetahellyea</td>\n",
       "    </tr>\n",
       "    <tr>\n",
       "      <th>1980</th>\n",
       "      <td>AncientStiffy</td>\n",
       "    </tr>\n",
       "    <tr>\n",
       "      <th>1981</th>\n",
       "      <td>time4mzl</td>\n",
       "    </tr>\n",
       "    <tr>\n",
       "      <th>1982</th>\n",
       "      <td>Jedhug</td>\n",
       "    </tr>\n",
       "    <tr>\n",
       "      <th>1983</th>\n",
       "      <td>_AmericanPoutine</td>\n",
       "    </tr>\n",
       "    <tr>\n",
       "      <th>1984</th>\n",
       "      <td>donthatemecuzisuck</td>\n",
       "    </tr>\n",
       "    <tr>\n",
       "      <th>1985</th>\n",
       "      <td>Redditology101</td>\n",
       "    </tr>\n",
       "    <tr>\n",
       "      <th>1986</th>\n",
       "      <td>TheMightySGK</td>\n",
       "    </tr>\n",
       "    <tr>\n",
       "      <th>1987</th>\n",
       "      <td>Rock_Ape</td>\n",
       "    </tr>\n",
       "    <tr>\n",
       "      <th>1988</th>\n",
       "      <td>whiskey4breakfast</td>\n",
       "    </tr>\n",
       "    <tr>\n",
       "      <th>1989</th>\n",
       "      <td>Who_am___i</td>\n",
       "    </tr>\n",
       "    <tr>\n",
       "      <th>1990</th>\n",
       "      <td>slicksnail</td>\n",
       "    </tr>\n",
       "    <tr>\n",
       "      <th>1991</th>\n",
       "      <td>Charli3q</td>\n",
       "    </tr>\n",
       "    <tr>\n",
       "      <th>1992</th>\n",
       "      <td>Plumbsmasher</td>\n",
       "    </tr>\n",
       "    <tr>\n",
       "      <th>1993</th>\n",
       "      <td>LaffAtU</td>\n",
       "    </tr>\n",
       "    <tr>\n",
       "      <th>1994</th>\n",
       "      <td>quantummajic</td>\n",
       "    </tr>\n",
       "    <tr>\n",
       "      <th>1995</th>\n",
       "      <td>psyvenrix</td>\n",
       "    </tr>\n",
       "    <tr>\n",
       "      <th>1996</th>\n",
       "      <td>Era555</td>\n",
       "    </tr>\n",
       "    <tr>\n",
       "      <th>1997</th>\n",
       "      <td>jercote</td>\n",
       "    </tr>\n",
       "    <tr>\n",
       "      <th>1998</th>\n",
       "      <td>Lezrec</td>\n",
       "    </tr>\n",
       "    <tr>\n",
       "      <th>1999</th>\n",
       "      <td>Zedlol18</td>\n",
       "    </tr>\n",
       "  </tbody>\n",
       "</table>\n",
       "<p>2000 rows × 1 columns</p>\n",
       "</div>"
      ],
      "text/plain": [
       "                    author\n",
       "0               cinn-e-mon\n",
       "1            Butter_nutted\n",
       "2               AdmirilRed\n",
       "3               podolski39\n",
       "4        captainfluffballs\n",
       "5              DoktorAkcel\n",
       "6                mrdarrenh\n",
       "7          koreanbabyeater\n",
       "8             MrBaconBagel\n",
       "9                   skarby\n",
       "10         DownVoteSoldier\n",
       "11             SmithFire13\n",
       "12         Chest-Rockwell-\n",
       "13                Nesurame\n",
       "14            King0fWhales\n",
       "15               theonlyD1\n",
       "16            asalvatore74\n",
       "17                 NEM3S1S\n",
       "18              iron_balls\n",
       "19               PigAnimal\n",
       "20                Servo112\n",
       "21    somedudeinlosangeles\n",
       "22               deck_hand\n",
       "23           coolfire1080P\n",
       "24    NuffNuffHoldTheFluff\n",
       "25            Activehannes\n",
       "26                rman2222\n",
       "27             ellisbrewer\n",
       "28                 GeeRawr\n",
       "29             ShaneDAWS0N\n",
       "...                    ...\n",
       "1970                Icerex\n",
       "1971                Myalko\n",
       "1972           smokejaguar\n",
       "1973               Pdecker\n",
       "1974          pancakeman96\n",
       "1975             cookedpig\n",
       "1976     hubertCumberdanes\n",
       "1977                rmecav\n",
       "1978            Rinkydinky\n",
       "1979       Canigetahellyea\n",
       "1980         AncientStiffy\n",
       "1981              time4mzl\n",
       "1982                Jedhug\n",
       "1983      _AmericanPoutine\n",
       "1984    donthatemecuzisuck\n",
       "1985        Redditology101\n",
       "1986          TheMightySGK\n",
       "1987              Rock_Ape\n",
       "1988     whiskey4breakfast\n",
       "1989            Who_am___i\n",
       "1990            slicksnail\n",
       "1991              Charli3q\n",
       "1992          Plumbsmasher\n",
       "1993               LaffAtU\n",
       "1994          quantummajic\n",
       "1995             psyvenrix\n",
       "1996                Era555\n",
       "1997               jercote\n",
       "1998                Lezrec\n",
       "1999              Zedlol18\n",
       "\n",
       "[2000 rows x 1 columns]"
      ]
     },
     "execution_count": 93,
     "metadata": {},
     "output_type": "execute_result"
    }
   ],
   "source": [
    "len(td_lsit)"
   ]
  }
 ],
 "metadata": {
  "kernelspec": {
   "display_name": "Python 3",
   "language": "python",
   "name": "python3"
  },
  "language_info": {
   "codemirror_mode": {
    "name": "ipython",
    "version": 3
   },
   "file_extension": ".py",
   "mimetype": "text/x-python",
   "name": "python",
   "nbconvert_exporter": "python",
   "pygments_lexer": "ipython3",
   "version": "3.6.1"
  }
 },
 "nbformat": 4,
 "nbformat_minor": 2
}
