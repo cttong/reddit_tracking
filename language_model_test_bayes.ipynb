{
 "cells": [
  {
   "cell_type": "code",
   "execution_count": 12,
   "metadata": {
    "collapsed": true
   },
   "outputs": [],
   "source": [
    "import pandas as pd\n",
    "import matplotlib.pyplot as plt\n",
    "import fighting_words #Jacks script (slightly edited for python 3)\n",
    "%matplotlib inline"
   ]
  },
  {
   "cell_type": "code",
   "execution_count": 27,
   "metadata": {},
   "outputs": [
    {
     "data": {
      "text/html": [
       "<div>\n",
       "<style>\n",
       "    .dataframe thead tr:only-child th {\n",
       "        text-align: right;\n",
       "    }\n",
       "\n",
       "    .dataframe thead th {\n",
       "        text-align: left;\n",
       "    }\n",
       "\n",
       "    .dataframe tbody tr th {\n",
       "        vertical-align: top;\n",
       "    }\n",
       "</style>\n",
       "<table border=\"1\" class=\"dataframe\">\n",
       "  <thead>\n",
       "    <tr style=\"text-align: right;\">\n",
       "      <th></th>\n",
       "      <th>author</th>\n",
       "      <th>body</th>\n",
       "      <th>subreddit</th>\n",
       "      <th>created_utc</th>\n",
       "    </tr>\n",
       "  </thead>\n",
       "  <tbody>\n",
       "    <tr>\n",
       "      <th>0</th>\n",
       "      <td>ludwigvangoostav</td>\n",
       "      <td>that is an amazingly ineffectual, idiotic resp...</td>\n",
       "      <td>altright</td>\n",
       "      <td>1475461446</td>\n",
       "    </tr>\n",
       "    <tr>\n",
       "      <th>1</th>\n",
       "      <td>Eldarion_Telcontar</td>\n",
       "      <td>Yes, that is also a good idea. Aristocracy is ...</td>\n",
       "      <td>altright</td>\n",
       "      <td>1477013846</td>\n",
       "    </tr>\n",
       "    <tr>\n",
       "      <th>2</th>\n",
       "      <td>Urban_Viking</td>\n",
       "      <td>The valknut isn't a tri-force</td>\n",
       "      <td>altright</td>\n",
       "      <td>1476768847</td>\n",
       "    </tr>\n",
       "    <tr>\n",
       "      <th>3</th>\n",
       "      <td>samwitches</td>\n",
       "      <td>You're right. I forgot Obama had three picks. ...</td>\n",
       "      <td>altright</td>\n",
       "      <td>1477371606</td>\n",
       "    </tr>\n",
       "    <tr>\n",
       "      <th>4</th>\n",
       "      <td>Angmar1488</td>\n",
       "      <td>https://www.youtube.com/watch?v=IKy3fCvMz-8</td>\n",
       "      <td>altright</td>\n",
       "      <td>1476429167</td>\n",
       "    </tr>\n",
       "    <tr>\n",
       "      <th>5</th>\n",
       "      <td>awful_website</td>\n",
       "      <td>&amp;gt; What is 7?\\n\\n7 is a police state, with h...</td>\n",
       "      <td>altright</td>\n",
       "      <td>1477152448</td>\n",
       "    </tr>\n",
       "    <tr>\n",
       "      <th>6</th>\n",
       "      <td>Trump_is_Christ</td>\n",
       "      <td>Maybe South Africa took one for the team, so w...</td>\n",
       "      <td>altright</td>\n",
       "      <td>1475761010</td>\n",
       "    </tr>\n",
       "    <tr>\n",
       "      <th>7</th>\n",
       "      <td>JayFitz6</td>\n",
       "      <td>Fucking Christ, dude. Dems don't have to be so...</td>\n",
       "      <td>altright</td>\n",
       "      <td>1476800066</td>\n",
       "    </tr>\n",
       "    <tr>\n",
       "      <th>8</th>\n",
       "      <td>Not_A_Slave</td>\n",
       "      <td>&amp;gt;For you apparently it is the advancement o...</td>\n",
       "      <td>altright</td>\n",
       "      <td>1477505620</td>\n",
       "    </tr>\n",
       "    <tr>\n",
       "      <th>9</th>\n",
       "      <td>Lifting1488</td>\n",
       "      <td>Does anyone really care? Evalion should be out...</td>\n",
       "      <td>altright</td>\n",
       "      <td>1477516668</td>\n",
       "    </tr>\n",
       "  </tbody>\n",
       "</table>\n",
       "</div>"
      ],
      "text/plain": [
       "               author                                               body  \\\n",
       "0    ludwigvangoostav  that is an amazingly ineffectual, idiotic resp...   \n",
       "1  Eldarion_Telcontar  Yes, that is also a good idea. Aristocracy is ...   \n",
       "2        Urban_Viking                      The valknut isn't a tri-force   \n",
       "3          samwitches  You're right. I forgot Obama had three picks. ...   \n",
       "4          Angmar1488        https://www.youtube.com/watch?v=IKy3fCvMz-8   \n",
       "5       awful_website  &gt; What is 7?\\n\\n7 is a police state, with h...   \n",
       "6     Trump_is_Christ  Maybe South Africa took one for the team, so w...   \n",
       "7            JayFitz6  Fucking Christ, dude. Dems don't have to be so...   \n",
       "8         Not_A_Slave  &gt;For you apparently it is the advancement o...   \n",
       "9         Lifting1488  Does anyone really care? Evalion should be out...   \n",
       "\n",
       "  subreddit  created_utc  \n",
       "0  altright   1475461446  \n",
       "1  altright   1477013846  \n",
       "2  altright   1476768847  \n",
       "3  altright   1477371606  \n",
       "4  altright   1476429167  \n",
       "5  altright   1477152448  \n",
       "6  altright   1475761010  \n",
       "7  altright   1476800066  \n",
       "8  altright   1477505620  \n",
       "9  altright   1477516668  "
      ]
     },
     "execution_count": 27,
     "metadata": {},
     "output_type": "execute_result"
    }
   ],
   "source": [
    "gen_altright_df = pd.read_csv('./data/altright_authorsearch.csv', encoding = 'utf-8')\n",
    "gen_altright_df = gen_altright_df[['author','body','subreddit','created_utc']]\n",
    "gen_altright_df.head(10)"
   ]
  },
  {
   "cell_type": "code",
   "execution_count": 49,
   "metadata": {},
   "outputs": [
    {
     "data": {
      "text/html": [
       "<div>\n",
       "<style>\n",
       "    .dataframe thead tr:only-child th {\n",
       "        text-align: right;\n",
       "    }\n",
       "\n",
       "    .dataframe thead th {\n",
       "        text-align: left;\n",
       "    }\n",
       "\n",
       "    .dataframe tbody tr th {\n",
       "        vertical-align: top;\n",
       "    }\n",
       "</style>\n",
       "<table border=\"1\" class=\"dataframe\">\n",
       "  <thead>\n",
       "    <tr style=\"text-align: right;\">\n",
       "      <th></th>\n",
       "      <th>lauthor</th>\n",
       "      <th>subreddit</th>\n",
       "      <th>body</th>\n",
       "      <th>created_utc</th>\n",
       "      <th>score</th>\n",
       "    </tr>\n",
       "  </thead>\n",
       "  <tbody>\n",
       "    <tr>\n",
       "      <th>0</th>\n",
       "      <td>skekze</td>\n",
       "      <td>politics</td>\n",
       "      <td>Meanwhile, the boomers are taking up heroin, o...</td>\n",
       "      <td>1391692340</td>\n",
       "      <td>15</td>\n",
       "    </tr>\n",
       "    <tr>\n",
       "      <th>1</th>\n",
       "      <td>cantseeshit</td>\n",
       "      <td>news</td>\n",
       "      <td>Its just messed up that there are racist foods...</td>\n",
       "      <td>1391728713</td>\n",
       "      <td>0</td>\n",
       "    </tr>\n",
       "    <tr>\n",
       "      <th>2</th>\n",
       "      <td>jakenichols2</td>\n",
       "      <td>urbanplanning</td>\n",
       "      <td>I thought socialists were all about sacrificin...</td>\n",
       "      <td>1393265658</td>\n",
       "      <td>0</td>\n",
       "    </tr>\n",
       "    <tr>\n",
       "      <th>3</th>\n",
       "      <td>bromeothebard</td>\n",
       "      <td>AskReddit</td>\n",
       "      <td>Fortune favors the bold.</td>\n",
       "      <td>1392737649</td>\n",
       "      <td>1</td>\n",
       "    </tr>\n",
       "    <tr>\n",
       "      <th>4</th>\n",
       "      <td>cantseeshit</td>\n",
       "      <td>AskReddit</td>\n",
       "      <td>Mountain Dew Game Fuel, the original one with ...</td>\n",
       "      <td>1392886487</td>\n",
       "      <td>1</td>\n",
       "    </tr>\n",
       "    <tr>\n",
       "      <th>5</th>\n",
       "      <td>mistermeatloaf</td>\n",
       "      <td>AskReddit</td>\n",
       "      <td>How you doin'</td>\n",
       "      <td>1392806023</td>\n",
       "      <td>1</td>\n",
       "    </tr>\n",
       "    <tr>\n",
       "      <th>6</th>\n",
       "      <td>hermit087</td>\n",
       "      <td>AskReddit</td>\n",
       "      <td>I was just basing that off of a Wikipedia arti...</td>\n",
       "      <td>1392035786</td>\n",
       "      <td>1</td>\n",
       "    </tr>\n",
       "    <tr>\n",
       "      <th>7</th>\n",
       "      <td>jakenichols2</td>\n",
       "      <td>conspiracy</td>\n",
       "      <td>From what I can infer based on what I've exper...</td>\n",
       "      <td>1391285182</td>\n",
       "      <td>1</td>\n",
       "    </tr>\n",
       "    <tr>\n",
       "      <th>8</th>\n",
       "      <td>throwahoymatie</td>\n",
       "      <td>Libertarian</td>\n",
       "      <td>Certainly.  Do you think it was the result of ...</td>\n",
       "      <td>1393005292</td>\n",
       "      <td>1</td>\n",
       "    </tr>\n",
       "    <tr>\n",
       "      <th>9</th>\n",
       "      <td>mistermeatloaf</td>\n",
       "      <td>ukraine</td>\n",
       "      <td>I would really really really hate Russians rig...</td>\n",
       "      <td>1393193602</td>\n",
       "      <td>1</td>\n",
       "    </tr>\n",
       "  </tbody>\n",
       "</table>\n",
       "</div>"
      ],
      "text/plain": [
       "          lauthor      subreddit  \\\n",
       "0          skekze       politics   \n",
       "1     cantseeshit           news   \n",
       "2    jakenichols2  urbanplanning   \n",
       "3   bromeothebard      AskReddit   \n",
       "4     cantseeshit      AskReddit   \n",
       "5  mistermeatloaf      AskReddit   \n",
       "6       hermit087      AskReddit   \n",
       "7    jakenichols2     conspiracy   \n",
       "8  throwahoymatie    Libertarian   \n",
       "9  mistermeatloaf        ukraine   \n",
       "\n",
       "                                                body  created_utc  score  \n",
       "0  Meanwhile, the boomers are taking up heroin, o...   1391692340     15  \n",
       "1  Its just messed up that there are racist foods...   1391728713      0  \n",
       "2  I thought socialists were all about sacrificin...   1393265658      0  \n",
       "3                           Fortune favors the bold.   1392737649      1  \n",
       "4  Mountain Dew Game Fuel, the original one with ...   1392886487      1  \n",
       "5                                      How you doin'   1392806023      1  \n",
       "6  I was just basing that off of a Wikipedia arti...   1392035786      1  \n",
       "7  From what I can infer based on what I've exper...   1391285182      1  \n",
       "8  Certainly.  Do you think it was the result of ...   1393005292      1  \n",
       "9  I would really really really hate Russians rig...   1393193602      1  "
      ]
     },
     "execution_count": 49,
     "metadata": {},
     "output_type": "execute_result"
    }
   ],
   "source": [
    "test = pd.read_csv('./data/candidate_data/results-2014-03-01.csv', encoding = 'utf-8')\n",
    "test.head(10)"
   ]
  },
  {
   "cell_type": "code",
   "execution_count": 50,
   "metadata": {},
   "outputs": [],
   "source": [
    "corpus1 = list(gen_altright_df['body'])\n",
    "corpus2 = list(test['body'])"
   ]
  },
  {
   "cell_type": "code",
   "execution_count": 66,
   "metadata": {},
   "outputs": [
    {
     "name": "stdout",
     "output_type": "stream",
     "text": [
      "Vocab size is 8288\n",
      "Comparing language...\n"
     ]
    }
   ],
   "source": [
    "results = fighting_words.bayes_compare_language(corpus1,corpus2, ngram = 1)"
   ]
  },
  {
   "cell_type": "code",
   "execution_count": 81,
   "metadata": {},
   "outputs": [
    {
     "data": {
      "text/plain": [
       "[('game', -21.756385940419314),\n",
       " ('it', -17.323412386309879),\n",
       " ('money', -17.051814037843027),\n",
       " ('games', -15.487510671785921),\n",
       " ('play', -12.970080054744548),\n",
       " ('market', -12.54726399577696),\n",
       " ('value', -12.118844455877584),\n",
       " ('price', -11.972408303787217),\n",
       " ('you', -11.853799666002262),\n",
       " ('government', -11.814628823295514)]"
      ]
     },
     "execution_count": 81,
     "metadata": {},
     "output_type": "execute_result"
    }
   ],
   "source": [
    "results[:10]"
   ]
  },
  {
   "cell_type": "code",
   "execution_count": 92,
   "metadata": {},
   "outputs": [
    {
     "data": {
      "text/plain": [
       "[('blacks', 11.435432081026399),\n",
       " ('us', 11.435941640826755),\n",
       " ('jewish', 11.589362359873167),\n",
       " ('culture', 12.111810650244367),\n",
       " ('whites', 15.246693337795087),\n",
       " ('race', 16.438711529662953),\n",
       " ('we', 17.312899338909698),\n",
       " ('jews', 17.524857558861573),\n",
       " ('our', 18.409619769436798),\n",
       " ('white', 28.130448014104747)]"
      ]
     },
     "execution_count": 92,
     "metadata": {},
     "output_type": "execute_result"
    }
   ],
   "source": [
    "results[-10:]"
   ]
  },
  {
   "cell_type": "code",
   "execution_count": 90,
   "metadata": {},
   "outputs": [
    {
     "data": {
      "text/plain": [
       "'Zionism aka greater Israel is not the end game '"
      ]
     },
     "execution_count": 90,
     "metadata": {},
     "output_type": "execute_result"
    }
   ],
   "source": [
    "gen_altright_df['body'][38]"
   ]
  },
  {
   "cell_type": "code",
   "execution_count": null,
   "metadata": {
    "collapsed": true
   },
   "outputs": [],
   "source": []
  }
 ],
 "metadata": {
  "kernelspec": {
   "display_name": "Python 3",
   "language": "python",
   "name": "python3"
  },
  "language_info": {
   "codemirror_mode": {
    "name": "ipython",
    "version": 3
   },
   "file_extension": ".py",
   "mimetype": "text/x-python",
   "name": "python",
   "nbconvert_exporter": "python",
   "pygments_lexer": "ipython3",
   "version": "3.6.1"
  }
 },
 "nbformat": 4,
 "nbformat_minor": 2
}
