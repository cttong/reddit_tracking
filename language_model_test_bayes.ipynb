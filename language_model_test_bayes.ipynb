{
 "cells": [
  {
   "cell_type": "code",
   "execution_count": 2,
   "metadata": {
    "collapsed": true
   },
   "outputs": [],
   "source": [
    "import pandas as pd\n",
    "import matplotlib.pyplot as plt\n",
    "import fighting_words #Jacks script (slightly edited for python 3)\n",
    "%matplotlib inline"
   ]
  },
  {
   "cell_type": "code",
   "execution_count": 3,
   "metadata": {},
   "outputs": [
    {
     "data": {
      "text/html": [
       "<div>\n",
       "<style>\n",
       "    .dataframe thead tr:only-child th {\n",
       "        text-align: right;\n",
       "    }\n",
       "\n",
       "    .dataframe thead th {\n",
       "        text-align: left;\n",
       "    }\n",
       "\n",
       "    .dataframe tbody tr th {\n",
       "        vertical-align: top;\n",
       "    }\n",
       "</style>\n",
       "<table border=\"1\" class=\"dataframe\">\n",
       "  <thead>\n",
       "    <tr style=\"text-align: right;\">\n",
       "      <th></th>\n",
       "      <th>author</th>\n",
       "      <th>body</th>\n",
       "      <th>subreddit</th>\n",
       "      <th>created_utc</th>\n",
       "    </tr>\n",
       "  </thead>\n",
       "  <tbody>\n",
       "    <tr>\n",
       "      <th>0</th>\n",
       "      <td>ludwigvangoostav</td>\n",
       "      <td>that is an amazingly ineffectual, idiotic resp...</td>\n",
       "      <td>altright</td>\n",
       "      <td>1475461446</td>\n",
       "    </tr>\n",
       "    <tr>\n",
       "      <th>1</th>\n",
       "      <td>Eldarion_Telcontar</td>\n",
       "      <td>Yes, that is also a good idea. Aristocracy is ...</td>\n",
       "      <td>altright</td>\n",
       "      <td>1477013846</td>\n",
       "    </tr>\n",
       "    <tr>\n",
       "      <th>2</th>\n",
       "      <td>Urban_Viking</td>\n",
       "      <td>The valknut isn't a tri-force</td>\n",
       "      <td>altright</td>\n",
       "      <td>1476768847</td>\n",
       "    </tr>\n",
       "  </tbody>\n",
       "</table>\n",
       "</div>"
      ],
      "text/plain": [
       "               author                                               body  \\\n",
       "0    ludwigvangoostav  that is an amazingly ineffectual, idiotic resp...   \n",
       "1  Eldarion_Telcontar  Yes, that is also a good idea. Aristocracy is ...   \n",
       "2        Urban_Viking                      The valknut isn't a tri-force   \n",
       "\n",
       "  subreddit  created_utc  \n",
       "0  altright   1475461446  \n",
       "1  altright   1477013846  \n",
       "2  altright   1476768847  "
      ]
     },
     "execution_count": 3,
     "metadata": {},
     "output_type": "execute_result"
    }
   ],
   "source": [
    "gen_altright_df = pd.read_csv('./data/altright_authorsearch.csv', encoding = 'utf-8')\n",
    "gen_altright_df = gen_altright_df[['author','body','subreddit','created_utc']]\n",
    "gen_altright_df.head(3)"
   ]
  },
  {
   "cell_type": "code",
   "execution_count": 4,
   "metadata": {},
   "outputs": [
    {
     "data": {
      "text/html": [
       "<div>\n",
       "<style>\n",
       "    .dataframe thead tr:only-child th {\n",
       "        text-align: right;\n",
       "    }\n",
       "\n",
       "    .dataframe thead th {\n",
       "        text-align: left;\n",
       "    }\n",
       "\n",
       "    .dataframe tbody tr th {\n",
       "        vertical-align: top;\n",
       "    }\n",
       "</style>\n",
       "<table border=\"1\" class=\"dataframe\">\n",
       "  <thead>\n",
       "    <tr style=\"text-align: right;\">\n",
       "      <th></th>\n",
       "      <th>lauthor</th>\n",
       "      <th>subreddit</th>\n",
       "      <th>body</th>\n",
       "      <th>created_utc</th>\n",
       "      <th>score</th>\n",
       "    </tr>\n",
       "  </thead>\n",
       "  <tbody>\n",
       "    <tr>\n",
       "      <th>0</th>\n",
       "      <td>skekze</td>\n",
       "      <td>politics</td>\n",
       "      <td>Meanwhile, the boomers are taking up heroin, o...</td>\n",
       "      <td>1391692340</td>\n",
       "      <td>15</td>\n",
       "    </tr>\n",
       "    <tr>\n",
       "      <th>1</th>\n",
       "      <td>cantseeshit</td>\n",
       "      <td>news</td>\n",
       "      <td>Its just messed up that there are racist foods...</td>\n",
       "      <td>1391728713</td>\n",
       "      <td>0</td>\n",
       "    </tr>\n",
       "    <tr>\n",
       "      <th>2</th>\n",
       "      <td>jakenichols2</td>\n",
       "      <td>urbanplanning</td>\n",
       "      <td>I thought socialists were all about sacrificin...</td>\n",
       "      <td>1393265658</td>\n",
       "      <td>0</td>\n",
       "    </tr>\n",
       "  </tbody>\n",
       "</table>\n",
       "</div>"
      ],
      "text/plain": [
       "        lauthor      subreddit  \\\n",
       "0        skekze       politics   \n",
       "1   cantseeshit           news   \n",
       "2  jakenichols2  urbanplanning   \n",
       "\n",
       "                                                body  created_utc  score  \n",
       "0  Meanwhile, the boomers are taking up heroin, o...   1391692340     15  \n",
       "1  Its just messed up that there are racist foods...   1391728713      0  \n",
       "2  I thought socialists were all about sacrificin...   1393265658      0  "
      ]
     },
     "execution_count": 4,
     "metadata": {},
     "output_type": "execute_result"
    }
   ],
   "source": [
    "test = pd.read_csv('./data/candidate_data/results-2014-03-01.csv', encoding = 'utf-8')\n",
    "test.head(3)"
   ]
  },
  {
   "cell_type": "code",
   "execution_count": 5,
   "metadata": {
    "collapsed": true
   },
   "outputs": [],
   "source": [
    "corpus1 = list(gen_altright_df['body']) #All posts from r/altright in Oct/Nov 2016\n",
    "corpus2 = list(test['body']) #Posts made by candidate authors across subreddits in Mar 2014 (Arbitrarily chosen for test)"
   ]
  },
  {
   "cell_type": "code",
   "execution_count": 6,
   "metadata": {},
   "outputs": [
    {
     "name": "stdout",
     "output_type": "stream",
     "text": [
      "Vocab size is 8288\n",
      "Comparing language...\n"
     ]
    }
   ],
   "source": [
    "results = fighting_words.bayes_compare_language(corpus1,corpus2, ngram = 1)"
   ]
  },
  {
   "cell_type": "code",
   "execution_count": 7,
   "metadata": {},
   "outputs": [
    {
     "data": {
      "text/plain": [
       "[('game', -21.756385940419314),\n",
       " ('it', -17.323412386309879),\n",
       " ('money', -17.051814037843027),\n",
       " ('games', -15.487510671785921),\n",
       " ('play', -12.970080054744548),\n",
       " ('market', -12.54726399577696),\n",
       " ('value', -12.118844455877584),\n",
       " ('price', -11.972408303787217),\n",
       " ('you', -11.853799666002262),\n",
       " ('government', -11.814628823295514)]"
      ]
     },
     "execution_count": 7,
     "metadata": {},
     "output_type": "execute_result"
    }
   ],
   "source": [
    "results[:10]"
   ]
  },
  {
   "cell_type": "code",
   "execution_count": 8,
   "metadata": {},
   "outputs": [
    {
     "data": {
      "text/plain": [
       "[('blacks', 11.435432081026399),\n",
       " ('us', 11.435941640826755),\n",
       " ('jewish', 11.589362359873167),\n",
       " ('culture', 12.111810650244367),\n",
       " ('whites', 15.246693337795087),\n",
       " ('race', 16.438711529662953),\n",
       " ('we', 17.312899338909698),\n",
       " ('jews', 17.524857558861573),\n",
       " ('our', 18.409619769436798),\n",
       " ('white', 28.130448014104747)]"
      ]
     },
     "execution_count": 8,
     "metadata": {},
     "output_type": "execute_result"
    }
   ],
   "source": [
    "results[-10:]"
   ]
  },
  {
   "cell_type": "code",
   "execution_count": null,
   "metadata": {
    "collapsed": true
   },
   "outputs": [],
   "source": []
  },
  {
   "cell_type": "code",
   "execution_count": null,
   "metadata": {
    "collapsed": true
   },
   "outputs": [],
   "source": []
  }
 ],
 "metadata": {
  "kernelspec": {
   "display_name": "Python 3",
   "language": "python",
   "name": "python3"
  },
  "language_info": {
   "codemirror_mode": {
    "name": "ipython",
    "version": 3
   },
   "file_extension": ".py",
   "mimetype": "text/x-python",
   "name": "python",
   "nbconvert_exporter": "python",
   "pygments_lexer": "ipython3",
   "version": "3.6.1"
  }
 },
 "nbformat": 4,
 "nbformat_minor": 2
}
